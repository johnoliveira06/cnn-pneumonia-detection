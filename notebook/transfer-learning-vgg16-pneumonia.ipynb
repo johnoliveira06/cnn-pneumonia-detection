{
 "cells": [
  {
   "cell_type": "markdown",
   "metadata": {},
   "source": [
    "# Transfer Learning com VGG16 para detecção de pneumonia\n",
    "\n",
    "Este notebook utiliza a técnica de Transfer Learning com a arquitetura VGG16 para detectar pneumonia em imagens de raios-X.\n",
    "***\n",
    "Repositório utilizado como inspiração:\n",
    "- [Metastasis Breast Cancer\n",
    "Detection](https://github.com/danyllosilva/MBCD-BK-PC-MSc)"
   ]
  },
  {
   "cell_type": "markdown",
   "metadata": {},
   "source": [
    "# Importação das bibliotecas"
   ]
  },
  {
   "cell_type": "code",
   "execution_count": null,
   "metadata": {
    "execution": {
     "iopub.execute_input": "2025-02-04T17:40:09.296940Z",
     "iopub.status.busy": "2025-02-04T17:40:09.296696Z",
     "iopub.status.idle": "2025-02-04T17:40:17.937239Z",
     "shell.execute_reply": "2025-02-04T17:40:17.936519Z",
     "shell.execute_reply.started": "2025-02-04T17:40:09.296921Z"
    },
    "trusted": true
   },
   "outputs": [],
   "source": [
    "import numpy as np\n",
    "import pandas as pd\n",
    "import os\n",
    "import matplotlib.pyplot as plt\n",
    "import albumentations as A\n",
    "import glob\n",
    "import keras\n",
    "\n",
    "from sklearn.metrics import *\n",
    "from sklearn.model_selection import train_test_split\n",
    "from functools import partial\n",
    "from mlxtend.plotting import plot_confusion_matrix\n",
    "\n",
    "import tensorflow as tf\n",
    "from tensorflow import keras\n",
    "from tensorflow.keras import layers\n",
    "from tensorflow.keras.callbacks import CSVLogger\n",
    "from tensorflow.keras.callbacks import ReduceLROnPlateau\n",
    "\n",
    "import warnings\n",
    "warnings.filterwarnings('ignore')"
   ]
  },
  {
   "cell_type": "markdown",
   "metadata": {},
   "source": [
    "# Importação do dataset"
   ]
  },
  {
   "cell_type": "code",
   "execution_count": null,
   "metadata": {
    "execution": {
     "iopub.execute_input": "2025-02-04T17:40:17.938918Z",
     "iopub.status.busy": "2025-02-04T17:40:17.938375Z",
     "iopub.status.idle": "2025-02-04T17:40:18.093588Z",
     "shell.execute_reply": "2025-02-04T17:40:18.092926Z",
     "shell.execute_reply.started": "2025-02-04T17:40:17.938894Z"
    },
    "trusted": true
   },
   "outputs": [],
   "source": [
    "main_path = '../dataset/'\n",
    "\n",
    "\n",
    "train_path = os.path.join(main_path,\"train\")\n",
    "test_path=os.path.join(main_path,\"test\")\n",
    "\n",
    "train_normal = glob.glob(train_path+\"/NORMAL/*.jpeg\")\n",
    "train_pneumonia = glob.glob(train_path+\"/PNEUMONIA/*.jpeg\")\n",
    "\n",
    "test_normal = glob.glob(test_path+\"/NORMAL/*.jpeg\")\n",
    "test_pneumonia = glob.glob(test_path+\"/PNEUMONIA/*.jpeg\")"
   ]
  },
  {
   "cell_type": "code",
   "execution_count": null,
   "metadata": {
    "execution": {
     "iopub.execute_input": "2025-02-04T17:40:18.094551Z",
     "iopub.status.busy": "2025-02-04T17:40:18.094330Z",
     "iopub.status.idle": "2025-02-04T17:40:18.109903Z",
     "shell.execute_reply": "2025-02-04T17:40:18.109148Z",
     "shell.execute_reply.started": "2025-02-04T17:40:18.094531Z"
    },
    "trusted": true
   },
   "outputs": [],
   "source": [
    "train_list = [x for x in train_normal]\n",
    "train_list.extend([x for x in train_pneumonia])\n",
    "\n",
    "df_train = pd.DataFrame(np.concatenate([['Normal']*len(train_normal) , ['Pneumonia']*len(train_pneumonia)]), columns = ['label'])\n",
    "df_train['image'] = [x for x in train_list]\n",
    "\n",
    "test_list = [x for x in test_normal]\n",
    "test_list.extend([x for x in test_pneumonia])\n",
    "\n",
    "df_test = pd.DataFrame(np.concatenate([['Normal']*len(test_normal) , ['Pneumonia']*len(test_pneumonia)]), columns = ['label'])\n",
    "df_test['image'] = [x for x in test_list]"
   ]
  },
  {
   "cell_type": "code",
   "execution_count": null,
   "metadata": {
    "execution": {
     "iopub.execute_input": "2025-02-04T17:40:18.110896Z",
     "iopub.status.busy": "2025-02-04T17:40:18.110640Z",
     "iopub.status.idle": "2025-02-04T17:40:18.136889Z",
     "shell.execute_reply": "2025-02-04T17:40:18.136127Z",
     "shell.execute_reply.started": "2025-02-04T17:40:18.110876Z"
    },
    "trusted": true
   },
   "outputs": [],
   "source": [
    "df_train"
   ]
  },
  {
   "cell_type": "code",
   "execution_count": null,
   "metadata": {
    "execution": {
     "iopub.execute_input": "2025-02-04T17:40:18.138050Z",
     "iopub.status.busy": "2025-02-04T17:40:18.137775Z",
     "iopub.status.idle": "2025-02-04T17:40:18.146310Z",
     "shell.execute_reply": "2025-02-04T17:40:18.145522Z",
     "shell.execute_reply.started": "2025-02-04T17:40:18.138030Z"
    },
    "trusted": true
   },
   "outputs": [],
   "source": [
    "df_test"
   ]
  },
  {
   "cell_type": "code",
   "execution_count": null,
   "metadata": {
    "execution": {
     "iopub.execute_input": "2025-02-04T17:40:18.148596Z",
     "iopub.status.busy": "2025-02-04T17:40:18.148372Z",
     "iopub.status.idle": "2025-02-04T17:40:18.161420Z",
     "shell.execute_reply": "2025-02-04T17:40:18.160722Z",
     "shell.execute_reply.started": "2025-02-04T17:40:18.148578Z"
    },
    "trusted": true
   },
   "outputs": [],
   "source": [
    "print('Total training images: % s' % str(df_train.shape[0]))\n",
    "print('Total testing images: % s' % str(df_test.shape[0]))"
   ]
  },
  {
   "cell_type": "code",
   "execution_count": null,
   "metadata": {
    "execution": {
     "iopub.execute_input": "2025-02-04T17:40:18.162542Z",
     "iopub.status.busy": "2025-02-04T17:40:18.162258Z",
     "iopub.status.idle": "2025-02-04T17:40:18.177660Z",
     "shell.execute_reply": "2025-02-04T17:40:18.176905Z",
     "shell.execute_reply.started": "2025-02-04T17:40:18.162512Z"
    },
    "trusted": true
   },
   "outputs": [],
   "source": [
    "df_total = pd.concat([df_train, df_test])"
   ]
  },
  {
   "cell_type": "code",
   "execution_count": null,
   "metadata": {
    "execution": {
     "iopub.execute_input": "2025-02-04T17:40:18.178712Z",
     "iopub.status.busy": "2025-02-04T17:40:18.178498Z",
     "iopub.status.idle": "2025-02-04T17:40:18.201672Z",
     "shell.execute_reply": "2025-02-04T17:40:18.200611Z",
     "shell.execute_reply.started": "2025-02-04T17:40:18.178677Z"
    },
    "trusted": true
   },
   "outputs": [],
   "source": [
    "df_total"
   ]
  },
  {
   "cell_type": "markdown",
   "metadata": {},
   "source": [
    "# Divisão dos conjuntos de treino e teste (80/20)"
   ]
  },
  {
   "cell_type": "code",
   "execution_count": null,
   "metadata": {
    "execution": {
     "iopub.execute_input": "2025-02-04T17:40:18.202981Z",
     "iopub.status.busy": "2025-02-04T17:40:18.202653Z",
     "iopub.status.idle": "2025-02-04T17:40:18.222392Z",
     "shell.execute_reply": "2025-02-04T17:40:18.221653Z",
     "shell.execute_reply.started": "2025-02-04T17:40:18.202944Z"
    },
    "trusted": true
   },
   "outputs": [],
   "source": [
    "df_train, df_test = train_test_split(df_total, test_size=0.2)"
   ]
  },
  {
   "cell_type": "code",
   "execution_count": null,
   "metadata": {
    "execution": {
     "iopub.execute_input": "2025-02-04T17:40:18.223431Z",
     "iopub.status.busy": "2025-02-04T17:40:18.223134Z",
     "iopub.status.idle": "2025-02-04T17:40:18.245068Z",
     "shell.execute_reply": "2025-02-04T17:40:18.244301Z",
     "shell.execute_reply.started": "2025-02-04T17:40:18.223402Z"
    },
    "trusted": true
   },
   "outputs": [],
   "source": [
    "df_train.label.value_counts()"
   ]
  },
  {
   "cell_type": "code",
   "execution_count": null,
   "metadata": {
    "execution": {
     "iopub.execute_input": "2025-02-04T17:40:22.475264Z",
     "iopub.status.busy": "2025-02-04T17:40:22.474945Z",
     "iopub.status.idle": "2025-02-04T17:40:22.482135Z",
     "shell.execute_reply": "2025-02-04T17:40:22.481217Z",
     "shell.execute_reply.started": "2025-02-04T17:40:22.475240Z"
    },
    "trusted": true
   },
   "outputs": [],
   "source": [
    "df_test.label.value_counts()"
   ]
  },
  {
   "cell_type": "markdown",
   "metadata": {},
   "source": [
    "# Definição de constantes"
   ]
  },
  {
   "cell_type": "code",
   "execution_count": null,
   "metadata": {
    "execution": {
     "iopub.execute_input": "2025-02-04T17:40:35.032938Z",
     "iopub.status.busy": "2025-02-04T17:40:35.032604Z",
     "iopub.status.idle": "2025-02-04T17:40:35.037219Z",
     "shell.execute_reply": "2025-02-04T17:40:35.036329Z",
     "shell.execute_reply.started": "2025-02-04T17:40:35.032910Z"
    },
    "trusted": true
   },
   "outputs": [],
   "source": [
    "img_size = 224\n",
    "batch_size = 32\n",
    "activation = 'sigmoid'\n",
    "epochs = 15\n",
    "reduce_lr = ReduceLROnPlateau(monitor='val_loss', factor=0.5, patience=7, min_lr=1e-6, verbose=1)"
   ]
  },
  {
   "cell_type": "markdown",
   "metadata": {},
   "source": [
    "# Preparando para o treinamento"
   ]
  },
  {
   "cell_type": "code",
   "execution_count": null,
   "metadata": {
    "execution": {
     "iopub.execute_input": "2025-02-04T17:40:37.562039Z",
     "iopub.status.busy": "2025-02-04T17:40:37.561691Z",
     "iopub.status.idle": "2025-02-04T17:40:37.572762Z",
     "shell.execute_reply": "2025-02-04T17:40:37.571838Z",
     "shell.execute_reply.started": "2025-02-04T17:40:37.562010Z"
    },
    "trusted": true
   },
   "outputs": [],
   "source": [
    "image_dir = \"../dataset/\"\n",
    "image_paths = df_train.image.apply(lambda x: os.path.join(image_dir, x))\n",
    "print(image_dir)\n",
    "print(image_paths)"
   ]
  },
  {
   "cell_type": "code",
   "execution_count": null,
   "metadata": {
    "execution": {
     "iopub.execute_input": "2025-02-04T17:40:39.672711Z",
     "iopub.status.busy": "2025-02-04T17:40:39.672390Z",
     "iopub.status.idle": "2025-02-04T17:40:39.684073Z",
     "shell.execute_reply": "2025-02-04T17:40:39.683377Z",
     "shell.execute_reply.started": "2025-02-04T17:40:39.672683Z"
    },
    "trusted": true
   },
   "outputs": [],
   "source": [
    "df_train['label_int'] = df_train['label'].map({'Normal': 0, 'Pneumonia': 1})\n",
    "\n",
    "df_train"
   ]
  },
  {
   "cell_type": "code",
   "execution_count": null,
   "metadata": {
    "execution": {
     "iopub.execute_input": "2025-02-04T17:40:40.460249Z",
     "iopub.status.busy": "2025-02-04T17:40:40.459965Z",
     "iopub.status.idle": "2025-02-04T17:40:40.470684Z",
     "shell.execute_reply": "2025-02-04T17:40:40.469829Z",
     "shell.execute_reply.started": "2025-02-04T17:40:40.460228Z"
    },
    "trusted": true
   },
   "outputs": [],
   "source": [
    "df_test['label_int'] = df_test['label'].map({'Normal': 0, 'Pneumonia': 1})\n",
    "\n",
    "df_test"
   ]
  },
  {
   "cell_type": "markdown",
   "metadata": {},
   "source": [
    "# Carregando os Dados de Treinamento e Teste com TensorFlow"
   ]
  },
  {
   "cell_type": "code",
   "execution_count": null,
   "metadata": {
    "execution": {
     "iopub.execute_input": "2025-02-04T17:40:42.145718Z",
     "iopub.status.busy": "2025-02-04T17:40:42.145396Z",
     "iopub.status.idle": "2025-02-04T17:40:42.751246Z",
     "shell.execute_reply": "2025-02-04T17:40:42.750353Z",
     "shell.execute_reply.started": "2025-02-04T17:40:42.145688Z"
    },
    "trusted": true
   },
   "outputs": [],
   "source": [
    "load_train = tf.data.Dataset.from_tensor_slices((df_train.image,\n",
    "                                                df_train.label_int))\n",
    "\n",
    "load_test = tf.data.Dataset.from_tensor_slices((df_test.image,\n",
    "                                                df_test.label_int))"
   ]
  },
  {
   "cell_type": "markdown",
   "metadata": {},
   "source": [
    "# Data augmentation"
   ]
  },
  {
   "cell_type": "code",
   "execution_count": null,
   "metadata": {
    "execution": {
     "iopub.execute_input": "2025-02-04T17:40:50.110781Z",
     "iopub.status.busy": "2025-02-04T17:40:50.110157Z",
     "iopub.status.idle": "2025-02-04T17:40:50.117287Z",
     "shell.execute_reply": "2025-02-04T17:40:50.116428Z",
     "shell.execute_reply.started": "2025-02-04T17:40:50.110732Z"
    },
    "trusted": true
   },
   "outputs": [],
   "source": [
    "def load_image(path, label):\n",
    "    image = tf.io.read_file(path)\n",
    "    image = tf.io.decode_jpeg(image, channels=3)\n",
    "    return image, label\n",
    "\n",
    "def augument_image(image):\n",
    "    transform = A.Compose([A.HorizontalFlip(p = 0.5),\n",
    "                          A.Rotate(p = 0.5, limit = 15),\n",
    "                          A.RandomBrightnessContrast(p=0.5, brightness_limit=(-0.2, 0.2), contrast_limit=(-0.1, 0.1),\n",
    "                                                    brightness_by_max=True),\n",
    "                           A.RandomResizedCrop(p=0.8, height=img_size, width=img_size,\n",
    "                                              scale=(0.8, 1.0), ratio=(0.05, 1.1), interpolation=0),\n",
    "                           A.Blur(blur_limit = (1, 1))\n",
    "\n",
    "                          ])\n",
    "\n",
    "    data = {\"image\": image}\n",
    "    augumented_data = transform(**data)\n",
    "    augumented_image = augumented_data[\"image\"]\n",
    "    augumented_image = tf.cast(augumented_image, tf.float32)\n",
    "    augumented_image = tf.image.resize(augumented_image, [img_size, img_size]) / 255\n",
    "\n",
    "    return augumented_image\n",
    "\n",
    "def augumentor_function(image, label):\n",
    "    augumented_image = tf.numpy_function(func=augument_image, inp=[image], Tout=tf.float32)\n",
    "    augumented_image.set_shape([img_size, img_size, 3])\n",
    "    return augumented_image, label"
   ]
  },
  {
   "cell_type": "code",
   "execution_count": null,
   "metadata": {
    "execution": {
     "iopub.execute_input": "2025-02-04T17:40:51.900888Z",
     "iopub.status.busy": "2025-02-04T17:40:51.900564Z",
     "iopub.status.idle": "2025-02-04T17:40:52.011487Z",
     "shell.execute_reply": "2025-02-04T17:40:52.010629Z",
     "shell.execute_reply.started": "2025-02-04T17:40:51.900860Z"
    },
    "trusted": true
   },
   "outputs": [],
   "source": [
    "train_dataset = (\n",
    "                load_train.shuffle(len(df_train))\n",
    "                .map(load_image, num_parallel_calls=tf.data.experimental.AUTOTUNE)\n",
    "                .map(partial(augumentor_function), num_parallel_calls=tf.data.experimental.AUTOTUNE)\n",
    "                .batch(batch_size)\n",
    "                .prefetch(tf.data.experimental.AUTOTUNE)\n",
    "                )\n",
    "test_dataset = (\n",
    "                load_test.shuffle(len(df_test))\n",
    "                .map(load_image, num_parallel_calls=tf.data.experimental.AUTOTUNE)\n",
    "                .map(partial(augumentor_function), num_parallel_calls=tf.data.experimental.AUTOTUNE)\n",
    "                .batch(batch_size)\n",
    "                .prefetch(tf.data.experimental.AUTOTUNE)\n",
    "                )\n",
    "\n",
    "train_dataset"
   ]
  },
  {
   "cell_type": "markdown",
   "metadata": {},
   "source": [
    "# Construindo o modelo"
   ]
  },
  {
   "cell_type": "code",
   "execution_count": null,
   "metadata": {
    "execution": {
     "iopub.execute_input": "2025-02-04T17:40:52.907626Z",
     "iopub.status.busy": "2025-02-04T17:40:52.907332Z",
     "iopub.status.idle": "2025-02-04T17:40:55.529246Z",
     "shell.execute_reply": "2025-02-04T17:40:55.528581Z",
     "shell.execute_reply.started": "2025-02-04T17:40:52.907604Z"
    },
    "trusted": true
   },
   "outputs": [],
   "source": [
    "input_shape = (224, 224, 3)\n",
    "\n",
    "def model_vgg16(input_shape, activation):\n",
    "\n",
    "    model = tf.keras.applications.vgg16.VGG16(\n",
    "        input_shape   = input_shape,\n",
    "        include_top   = False,\n",
    "        weights = 'imagenet')\n",
    "\n",
    "    x = model.layers[-1].output\n",
    "    x = layers.GlobalAveragePooling2D()(x)\n",
    "    output = layers.Dense(1, activation=activation)(x)\n",
    "    print('Output shape: ', output.shape)\n",
    "    model.trainable = False\n",
    "    model = keras.Model(inputs=model.input, outputs=output)\n",
    "\n",
    "    return model\n",
    "\n",
    "if __name__ == \"__main__\":\n",
    "    model = model_vgg16(input_shape, activation)\n",
    "    model.summary()\n",
    "    print('Input shape: ', input_shape)"
   ]
  },
  {
   "cell_type": "markdown",
   "metadata": {},
   "source": [
    "# Plot das métricas durante o treinamento"
   ]
  },
  {
   "cell_type": "code",
   "execution_count": null,
   "metadata": {
    "execution": {
     "iopub.execute_input": "2025-02-04T17:40:57.074885Z",
     "iopub.status.busy": "2025-02-04T17:40:57.074549Z",
     "iopub.status.idle": "2025-02-04T17:40:57.081043Z",
     "shell.execute_reply": "2025-02-04T17:40:57.080105Z",
     "shell.execute_reply.started": "2025-02-04T17:40:57.074857Z"
    },
    "trusted": true
   },
   "outputs": [],
   "source": [
    "def Plot_Train(hlist, start=1):\n",
    "\n",
    "    history = {}\n",
    "    for k in hlist[0].history.keys():\n",
    "        history[k] = sum([h.history[k] for h in hlist], [])\n",
    "\n",
    "    epoch_range = range(start, len(history['loss']) +1)\n",
    "    s           = slice(start-1, None)\n",
    "    n           = int(len(history.keys()) / 2)\n",
    "\n",
    "    plt.figure(figsize=[14,4])\n",
    "    for i in range(n):\n",
    "        k = list(history.keys())[i]\n",
    "        plt.subplot(1, n, i+1)\n",
    "        plt.plot(epoch_range, history[k][s], label='Training')\n",
    "        plt.plot(epoch_range, history['val_' + k][s], label='Test')\n",
    "        plt.xlabel('Epoch'); plt.ylabel(k); plt.title(k)\n",
    "        plt.grid()\n",
    "        plt.legend()\n",
    "\n",
    "    plt.tight_layout()\n",
    "    plt.show()"
   ]
  },
  {
   "cell_type": "markdown",
   "metadata": {},
   "source": [
    "# Realizando o treinamento do modelo"
   ]
  },
  {
   "cell_type": "code",
   "execution_count": null,
   "metadata": {
    "execution": {
     "iopub.execute_input": "2025-02-04T17:40:58.158072Z",
     "iopub.status.busy": "2025-02-04T17:40:58.157745Z",
     "iopub.status.idle": "2025-02-04T17:40:58.161786Z",
     "shell.execute_reply": "2025-02-04T17:40:58.160841Z",
     "shell.execute_reply.started": "2025-02-04T17:40:58.158049Z"
    },
    "trusted": true
   },
   "outputs": [],
   "source": [
    "class_weights = {0: 1.2, 1: 1.0}"
   ]
  },
  {
   "cell_type": "code",
   "execution_count": null,
   "metadata": {
    "execution": {
     "iopub.execute_input": "2025-02-04T17:41:01.654592Z",
     "iopub.status.busy": "2025-02-04T17:41:01.654281Z",
     "iopub.status.idle": "2025-02-04T17:56:58.275276Z",
     "shell.execute_reply": "2025-02-04T17:56:58.274350Z",
     "shell.execute_reply.started": "2025-02-04T17:41:01.654565Z"
    },
    "trusted": true
   },
   "outputs": [],
   "source": [
    "def fine_tune_vgg16(model, num_layers_to_unfreeze=4):\n",
    "    for layer in model.layers[-num_layers_to_unfreeze:]:\n",
    "        layer.trainable = True\n",
    "    return model\n",
    "\n",
    "model = fine_tune_vgg16(model)\n",
    "\n",
    "model_checkpoint = tf.keras.callbacks.ModelCheckpoint('vgg16_best_model.keras', save_best_only=True)\n",
    "\n",
    "csv_logger = CSVLogger('cnn_vgg16_train_model_logs.csv', append=True)\n",
    "\n",
    "model.compile(loss='binary_crossentropy', optimizer=tf.keras.optimizers.Adam(learning_rate=2e-5),\n",
    "              metrics=['accuracy', tf.keras.metrics.Precision(name='Precision'),\n",
    "                       tf.keras.metrics.Recall(name='Recall')])\n",
    "\n",
    "train_history = model.fit(\n",
    "    train_dataset,\n",
    "    epochs=epochs,\n",
    "    batch_size=batch_size,\n",
    "    verbose=1,\n",
    "    callbacks=[model_checkpoint, csv_logger, reduce_lr],\n",
    "    validation_data=test_dataset,\n",
    "    class_weight=class_weights\n",
    ")"
   ]
  },
  {
   "cell_type": "code",
   "execution_count": null,
   "metadata": {
    "execution": {
     "iopub.execute_input": "2025-02-04T17:56:58.276888Z",
     "iopub.status.busy": "2025-02-04T17:56:58.276580Z",
     "iopub.status.idle": "2025-02-04T17:56:59.061097Z",
     "shell.execute_reply": "2025-02-04T17:56:59.060248Z",
     "shell.execute_reply.started": "2025-02-04T17:56:58.276863Z"
    },
    "trusted": true
   },
   "outputs": [],
   "source": [
    "Plot_Train([train_history])"
   ]
  },
  {
   "cell_type": "markdown",
   "metadata": {},
   "source": [
    "# Avaliando o modelo"
   ]
  },
  {
   "cell_type": "code",
   "execution_count": null,
   "metadata": {
    "execution": {
     "iopub.execute_input": "2025-02-04T17:57:39.034499Z",
     "iopub.status.busy": "2025-02-04T17:57:39.034193Z",
     "iopub.status.idle": "2025-02-04T17:57:39.061251Z",
     "shell.execute_reply": "2025-02-04T17:57:39.060338Z",
     "shell.execute_reply.started": "2025-02-04T17:57:39.034476Z"
    },
    "trusted": true
   },
   "outputs": [],
   "source": [
    "test_data = load_test\n",
    "test_dataset = (\n",
    "                test_data\n",
    "                .map(load_image, num_parallel_calls=tf.data.experimental.AUTOTUNE)\n",
    "                .map(partial(augumentor_function), num_parallel_calls=tf.data.experimental.AUTOTUNE)\n",
    "                .batch(batch_size)\n",
    "                .prefetch(tf.data.experimental.AUTOTUNE)\n",
    "                )"
   ]
  },
  {
   "cell_type": "code",
   "execution_count": null,
   "metadata": {
    "execution": {
     "iopub.execute_input": "2025-02-04T17:57:39.965770Z",
     "iopub.status.busy": "2025-02-04T17:57:39.965396Z",
     "iopub.status.idle": "2025-02-04T17:57:52.807120Z",
     "shell.execute_reply": "2025-02-04T17:57:52.806104Z",
     "shell.execute_reply.started": "2025-02-04T17:57:39.965709Z"
    },
    "trusted": true
   },
   "outputs": [],
   "source": [
    "ytrue = df_test['label_int']\n",
    "pred = model.predict(test_dataset, verbose=1)\n",
    "ypred = np.where(pred > 0.5, 1, 0)"
   ]
  },
  {
   "cell_type": "code",
   "execution_count": null,
   "metadata": {
    "execution": {
     "iopub.execute_input": "2025-02-04T17:57:52.808705Z",
     "iopub.status.busy": "2025-02-04T17:57:52.808377Z",
     "iopub.status.idle": "2025-02-04T17:57:52.816565Z",
     "shell.execute_reply": "2025-02-04T17:57:52.815795Z",
     "shell.execute_reply.started": "2025-02-04T17:57:52.808675Z"
    },
    "trusted": true
   },
   "outputs": [],
   "source": [
    "df_preds = pd.DataFrame(ypred, ytrue)\n",
    "df_preds.head(10)"
   ]
  },
  {
   "cell_type": "code",
   "execution_count": null,
   "metadata": {
    "execution": {
     "iopub.execute_input": "2025-02-04T17:57:52.818755Z",
     "iopub.status.busy": "2025-02-04T17:57:52.818353Z",
     "iopub.status.idle": "2025-02-04T17:57:53.180102Z",
     "shell.execute_reply": "2025-02-04T17:57:53.179319Z",
     "shell.execute_reply.started": "2025-02-04T17:57:52.818703Z"
    },
    "trusted": true
   },
   "outputs": [],
   "source": [
    "cm = confusion_matrix(y_true=ytrue, y_pred=ypred)\n",
    "fig, ax = plot_confusion_matrix(conf_mat=cm,\n",
    "                                show_absolute=True,\n",
    "                                show_normed=True,\n",
    "                                colorbar=True,\n",
    "                               cmap = 'Blues')\n",
    "plt.show()"
   ]
  },
  {
   "cell_type": "code",
   "execution_count": null,
   "metadata": {
    "execution": {
     "iopub.execute_input": "2025-02-04T17:57:53.181317Z",
     "iopub.status.busy": "2025-02-04T17:57:53.181049Z",
     "iopub.status.idle": "2025-02-04T17:57:53.193861Z",
     "shell.execute_reply": "2025-02-04T17:57:53.193156Z",
     "shell.execute_reply.started": "2025-02-04T17:57:53.181286Z"
    },
    "trusted": true
   },
   "outputs": [],
   "source": [
    "report = classification_report(ytrue, ypred, target_names = ['normal', 'pneumonia'])\n",
    "print(report)"
   ]
  },
  {
   "cell_type": "code",
   "execution_count": null,
   "metadata": {
    "execution": {
     "iopub.execute_input": "2025-02-04T18:44:08.765123Z",
     "iopub.status.busy": "2025-02-04T18:44:08.764594Z",
     "iopub.status.idle": "2025-02-04T18:44:09.009440Z",
     "shell.execute_reply": "2025-02-04T18:44:09.008526Z",
     "shell.execute_reply.started": "2025-02-04T18:44:08.765080Z"
    },
    "trusted": true
   },
   "outputs": [],
   "source": [
    "y_probs = pred.ravel()\n",
    "\n",
    "fpr, tpr, _ = roc_curve(ytrue, y_probs)\n",
    "auc_score = roc_auc_score(ytrue, y_probs)\n",
    "\n",
    "\n",
    "plt.figure(figsize=(12, 8))\n",
    "plt.plot(fpr, tpr, color='blue', label=f'AUC = {auc_score:.4f}')\n",
    "plt.plot([0, 1], [0, 1], color='red', linestyle='--')\n",
    "plt.xlabel('Taxa de Falsos Positivos (FPR)')\n",
    "plt.ylabel('Taxa de Verdadeiros Positivos (TPR)')\n",
    "plt.legend(loc='lower right')\n",
    "plt.grid(True)\n",
    "plt.show()"
   ]
  }
 ],
 "metadata": {
  "kaggle": {
   "accelerator": "gpu",
   "dataSources": [
    {
     "datasetId": 835414,
     "sourceId": 1426603,
     "sourceType": "datasetVersion"
    },
    {
     "datasetId": 6345404,
     "sourceId": 10257687,
     "sourceType": "datasetVersion"
    }
   ],
   "dockerImageVersionId": 30823,
   "isGpuEnabled": true,
   "isInternetEnabled": true,
   "language": "python",
   "sourceType": "notebook"
  },
  "kernelspec": {
   "display_name": "global-venv",
   "language": "python",
   "name": "python3"
  },
  "language_info": {
   "codemirror_mode": {
    "name": "ipython",
    "version": 3
   },
   "file_extension": ".py",
   "mimetype": "text/x-python",
   "name": "python",
   "nbconvert_exporter": "python",
   "pygments_lexer": "ipython3",
   "version": "3.11.2"
  }
 },
 "nbformat": 4,
 "nbformat_minor": 4
}
